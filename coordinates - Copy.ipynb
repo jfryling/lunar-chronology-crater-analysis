{
 "cells": [
  {
   "cell_type": "code",
   "execution_count": 20,
   "metadata": {},
   "outputs": [
    {
     "name": "stdout",
     "output_type": "stream",
     "text": [
      "y min rough: 0.29237170472273677\n",
      "y max rough: 0.573576436351046\n",
      "x min rough: 0.12217304763960307\n",
      "x max rough: 0.5235987755982988\n",
      "x min: 0.25\n",
      "x max: 0.35\n",
      "y min: 0.35\n",
      "y max: 0.44999999999999996\n"
     ]
    }
   ],
   "source": [
    "#serenitatis\n",
    "import numpy as np\n",
    "print('y min rough:', np.sin(np.deg2rad(17)))\n",
    "print('y max rough:', np.sin(np.deg2rad(35)))\n",
    "print('x min rough:', np.pi * 7 / 180)\n",
    "print('x max rough:', np.pi * 30 / 180)\n",
    "\n",
    "x_min_seren = .25\n",
    "x_max_seren = x_min_seren + .1\n",
    "y_min_seren = .35\n",
    "y_max_seren = y_min_seren + .1\n",
    "\n",
    "print('x min:', x_min_seren)\n",
    "print('x max:', x_max_seren)\n",
    "print('y min:', y_min_seren)\n",
    "print('y max:', y_max_seren)"
   ]
  },
  {
   "cell_type": "code",
   "execution_count": null,
   "metadata": {},
   "outputs": [],
   "source": []
  },
  {
   "cell_type": "code",
   "execution_count": 21,
   "metadata": {},
   "outputs": [
    {
     "name": "stdout",
     "output_type": "stream",
     "text": [
      "y min rough: -0.12186934340514748\n",
      "y max rough: -0.4383711467890774\n",
      "x min rough: 0.47123889803846897\n",
      "x max rough: 0.7330382858376184\n",
      "x min: 0.5\n",
      "x max: 0.6\n",
      "y min: -0.2\n",
      "y max: -0.1\n"
     ]
    }
   ],
   "source": [
    "#nectaris\n",
    "import numpy as np\n",
    "print('y min rough:', np.sin(np.deg2rad(-7)))\n",
    "print('y max rough:', np.sin(np.deg2rad(-26)))\n",
    "print('x min rough:', np.pi * 27 / 180)\n",
    "print('x max rough:', np.pi * 42 / 180)\n",
    "\n",
    "x_min_nect = .5\n",
    "y_min_nect = -.2\n",
    "x_max_nect = x_min_nect + .1\n",
    "y_max_nect = y_min_nect + .1\n",
    "\n",
    "print('x min:', x_min_nect)\n",
    "print('x max:', x_max_nect)\n",
    "print('y min:', y_min_nect)\n",
    "print('y max:', y_max_nect)"
   ]
  },
  {
   "cell_type": "code",
   "execution_count": 22,
   "metadata": {},
   "outputs": [
    {
     "name": "stdout",
     "output_type": "stream",
     "text": [
      "y min rough: 0.20791169081775934\n",
      "y max rough: 0.45399049973954675\n",
      "x min rough: 0.6981317007977318\n",
      "x max rough: 1.2566370614359172\n",
      "x min: 0.8\n",
      "x max: 0.9\n",
      "y min: 0.25\n",
      "y max: 0.35\n"
     ]
    }
   ],
   "source": [
    "#crisium\n",
    "import numpy as np\n",
    "print('y min rough:', np.sin(np.deg2rad(12)))\n",
    "print('y max rough:', np.sin(np.deg2rad(27)))\n",
    "print('x min rough:', np.pi * (40) / 180)\n",
    "print('x max rough:', np.pi * (72) / 180)\n",
    "\n",
    "x_min_cris = .8\n",
    "y_min_cris = .25\n",
    "x_max_cris = x_min_cris + .1\n",
    "y_max_cris = y_min_cris + .1\n",
    "\n",
    "print('x min:', x_min_cris)\n",
    "print('x max:', x_max_cris)\n",
    "print('y min:', y_min_cris)\n",
    "print('y max:', y_max_cris)"
   ]
  },
  {
   "cell_type": "code",
   "execution_count": 23,
   "metadata": {},
   "outputs": [
    {
     "name": "stdout",
     "output_type": "stream",
     "text": [
      "y min rough: 0.766044443118978\n",
      "y max rough: 0.9063077870366499\n",
      "x min rough: 1.2217304763960306\n",
      "x max rough: 1.5707963267948966\n",
      "x min: 1.35\n",
      "x max: 1.4500000000000002\n",
      "y min: 0.8\n",
      "y max: 0.9\n"
     ]
    }
   ],
   "source": [
    "#Humboldtianum\n",
    "import numpy as np\n",
    "print('y min rough:', np.sin(np.deg2rad(50)))\n",
    "print('y max rough:', np.sin(np.deg2rad(65)))\n",
    "print('x min rough:', np.pi * (70) / 180)\n",
    "print('x max rough:', np.pi * (90) / 180)\n",
    "\n",
    "x_min_humb = 1.35\n",
    "y_min_humb = .8\n",
    "x_max_humb = x_min_humb + .1\n",
    "y_max_humb = y_min_humb + .1\n",
    "\n",
    "print('x min:', x_min_humb)\n",
    "print('x max:', x_max_humb)\n",
    "print('y min:', y_min_humb)\n",
    "print('y max:', y_max_humb)"
   ]
  },
  {
   "cell_type": "code",
   "execution_count": 24,
   "metadata": {},
   "outputs": [
    {
     "name": "stdout",
     "output_type": "stream",
     "text": [
      "y min rough: 0.3420201433256687\n",
      "y max rough: 0.766044443118978\n",
      "x min rough: 5.8468529941810035\n",
      "x max rough: 6.19591884457987\n",
      "x min: 5.9\n",
      "x max: 6.0\n",
      "y min: 0.5\n",
      "y max: 0.6\n"
     ]
    }
   ],
   "source": [
    "#Imbrium\n",
    "import numpy as np\n",
    "print('y min rough:', np.sin(np.deg2rad(20)))\n",
    "print('y max rough:', np.sin(np.deg2rad(50)))\n",
    "print('x min rough:', np.pi * (335) / 180)\n",
    "print('x max rough:', np.pi * (355) / 180)\n",
    "\n",
    "x_min_imbr = 5.9\n",
    "y_min_imbr = .5\n",
    "x_max_imbr = x_min_imbr + .1\n",
    "y_max_imbr = y_min_imbr + .1\n",
    "\n",
    "print('x min:', x_min_imbr)\n",
    "print('x max:', x_max_imbr)\n",
    "print('y min:', y_min_imbr)\n",
    "print('y max:', y_max_imbr)"
   ]
  },
  {
   "cell_type": "code",
   "execution_count": 25,
   "metadata": {},
   "outputs": [
    {
     "name": "stdout",
     "output_type": "stream",
     "text": [
      "y min rough: -0.4694715627858908\n",
      "y max rough: -0.17364817766693033\n",
      "x min rough: 4.537856055185257\n",
      "x max rough: 4.71238898038469\n",
      "x min: 4.55\n",
      "x max: 4.6499999999999995\n",
      "y min: -0.45\n",
      "y max: -0.35\n"
     ]
    }
   ],
   "source": [
    "#orientale\n",
    "import numpy as np\n",
    "print('y min rough:', np.sin(np.deg2rad(-28)))\n",
    "print('y max rough:', np.sin(np.deg2rad(-10)))\n",
    "print('x min rough:', np.pi * 260 / 180)\n",
    "print('x max rough:', np.pi * 270 / 180)\n",
    "\n",
    "x_min_orien = 4.55\n",
    "y_min_orien = -.450\n",
    "x_max_orien = x_min_orien + .1\n",
    "\n",
    "y_max_orien = y_min_orien + .1\n",
    "\n",
    "print('x min:', x_min_orien)\n",
    "print('x max:', x_max_orien)\n",
    "print('y min:', y_min_orien)\n",
    "print('y max:', y_max_orien)"
   ]
  }
 ],
 "metadata": {
  "kernelspec": {
   "display_name": "Python 3.11.0 ('geo_env')",
   "language": "python",
   "name": "python3"
  },
  "language_info": {
   "codemirror_mode": {
    "name": "ipython",
    "version": 3
   },
   "file_extension": ".py",
   "mimetype": "text/x-python",
   "name": "python",
   "nbconvert_exporter": "python",
   "pygments_lexer": "ipython3",
   "version": "3.11.0"
  },
  "orig_nbformat": 4,
  "vscode": {
   "interpreter": {
    "hash": "a85e743dec9ef31fb8a196a35bc044cb46515a4fb24e9c26a9cb3c5806b99144"
   }
  }
 },
 "nbformat": 4,
 "nbformat_minor": 2
}
