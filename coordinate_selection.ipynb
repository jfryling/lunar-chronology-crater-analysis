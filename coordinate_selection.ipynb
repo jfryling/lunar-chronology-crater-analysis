{
 "cells": [
  {
   "cell_type": "code",
   "execution_count": 8,
   "metadata": {},
   "outputs": [],
   "source": [
    "import numpy as np"
   ]
  },
  {
   "cell_type": "code",
   "execution_count": 9,
   "metadata": {},
   "outputs": [
    {
     "name": "stdout",
     "output_type": "stream",
     "text": [
      "serenitatis rough:\n",
      "x min rough: 0.12217304763960307\n",
      "y min rough: 0.29237170472273677\n",
      "x max rough: 0.5235987755982988\n",
      "y max rough: 0.573576436351046\n",
      "\n",
      "serenitatis chosen:\n",
      "x min: 0.25\n",
      "y min: 0.35\n",
      "x max: 0.35\n",
      "y max: 0.44999999999999996\n"
     ]
    }
   ],
   "source": [
    "#serenitatis\n",
    "\n",
    "# measured lat/long restraints\n",
    "lon_min_seren = 7\n",
    "lat_min_seren = 17\n",
    "lon_max_seren = 30\n",
    "lat_max_seren = 35\n",
    "\n",
    "#converts rough restraints into x/y\n",
    "print('serenitatis rough:')\n",
    "print('x min rough:', np.pi * lon_min_seren / 180)\n",
    "print('y min rough:', np.sin(np.deg2rad(lat_min_seren)))\n",
    "print('x max rough:', np.pi * lon_max_seren / 180)\n",
    "print('y max rough:', np.sin(np.deg2rad(lat_max_seren)))\n",
    "\n",
    "#selects specific range of x/y\n",
    "x_min_seren = .25\n",
    "x_max_seren = x_min_seren + .1\n",
    "y_min_seren = .35\n",
    "y_max_seren = y_min_seren + .1\n",
    "\n",
    "print('\\nserenitatis chosen:')\n",
    "print('x min:', x_min_seren)\n",
    "print('y min:', y_min_seren)\n",
    "print('x max:', x_max_seren)\n",
    "print('y max:', y_max_seren)"
   ]
  },
  {
   "cell_type": "code",
   "execution_count": 10,
   "metadata": {},
   "outputs": [
    {
     "name": "stdout",
     "output_type": "stream",
     "text": [
      "nectaris rough:\n",
      "x min rough: 0.47123889803846897\n",
      "y min rough: -0.12186934340514748\n",
      "x max rough: 0.7330382858376184\n",
      "y max rough: -0.4383711467890774\n",
      "\n",
      "nectaris chosen:\n",
      "x min: 0.5\n",
      "y min: -0.2\n",
      "x max: 0.6\n",
      "y max: -0.1\n"
     ]
    }
   ],
   "source": [
    "#nectaris\n",
    "\n",
    "# measured lat/long restraints\n",
    "lon_min_nect = 27\n",
    "lat_min_nect = -7\n",
    "lon_max_nect = 42\n",
    "lat_max_nect = -26\n",
    "\n",
    "#converts rough restraints into x/y\n",
    "print('nectaris rough:')\n",
    "print('x min rough:', np.pi * lon_min_nect / 180)\n",
    "print('y min rough:', np.sin(np.deg2rad(lat_min_nect)))\n",
    "print('x max rough:', np.pi * lon_max_nect / 180)\n",
    "print('y max rough:', np.sin(np.deg2rad(lat_max_nect)))\n",
    "\n",
    "#selects specific range of x/y\n",
    "x_min_nect = .5\n",
    "y_min_nect = -.2\n",
    "x_max_nect = x_min_nect + .1\n",
    "y_max_nect = y_min_nect + .1\n",
    "\n",
    "print('\\nnectaris chosen:')\n",
    "print('x min:', x_min_nect)\n",
    "print('y min:', y_min_nect)\n",
    "print('x max:', x_max_nect)\n",
    "print('y max:', y_max_nect)"
   ]
  },
  {
   "cell_type": "code",
   "execution_count": 11,
   "metadata": {},
   "outputs": [
    {
     "name": "stdout",
     "output_type": "stream",
     "text": [
      "crisium rough:\n",
      "x min rough: 0.6981317007977318\n",
      "y min rough: 0.20791169081775934\n",
      "x max rough: 1.2566370614359172\n",
      "y max rough: 0.45399049973954675\n",
      "\n",
      "crisium chosen:\n",
      "x min: 0.8\n",
      "y min: 0.25\n",
      "x max: 0.9\n",
      "y max: 0.35\n"
     ]
    }
   ],
   "source": [
    "#crisium\n",
    "\n",
    "# measured lat/long restraints\n",
    "lat_min_cris = 12\n",
    "lat_max_cris = 27\n",
    "lon_min_cris = 40\n",
    "lon_max_cris = 72\n",
    "\n",
    "#converts rough restraints into x/y\n",
    "print('crisium rough:')\n",
    "print('x min rough:', np.pi * (lon_min_cris) / 180)\n",
    "print('y min rough:', np.sin(np.deg2rad(lat_min_cris)))\n",
    "print('x max rough:', np.pi * (lon_max_cris) / 180)\n",
    "print('y max rough:', np.sin(np.deg2rad(lat_max_cris)))\n",
    "\n",
    "#selects specific range of x/y\n",
    "x_min_cris = .8\n",
    "y_min_cris = .25\n",
    "x_max_cris = x_min_cris + .1\n",
    "y_max_cris = y_min_cris + .1\n",
    "\n",
    "print('\\ncrisium chosen:')\n",
    "print('x min:', x_min_cris)\n",
    "print('y min:', y_min_cris)\n",
    "print('x max:', x_max_cris)\n",
    "print('y max:', y_max_cris)"
   ]
  },
  {
   "cell_type": "code",
   "execution_count": 12,
   "metadata": {},
   "outputs": [
    {
     "name": "stdout",
     "output_type": "stream",
     "text": [
      "humboldtianum rough:\n",
      "x min rough: 1.2217304763960306\n",
      "y min rough: 0.766044443118978\n",
      "x max rough: 1.5707963267948966\n",
      "y max rough: 0.9063077870366499\n",
      "\n",
      "humboldtianum chosen:\n",
      "x min: 1.35\n",
      "y min: 0.8\n",
      "x max: 1.4500000000000002\n",
      "y max: 0.9\n"
     ]
    }
   ],
   "source": [
    "#humboldtianum\n",
    "\n",
    "# measured lat/long restraints\n",
    "lat_min_humb = 50\n",
    "lat_max_humb = 65\n",
    "lon_min_humb = 70\n",
    "lon_max_humb = 90\n",
    "\n",
    "#converts rough restraints into x/y\n",
    "print('humboldtianum rough:')\n",
    "print('x min rough:', np.pi * (lon_min_humb) / 180)\n",
    "print('y min rough:', np.sin(np.deg2rad(lat_min_humb)))\n",
    "print('x max rough:', np.pi * (lon_max_humb) / 180)\n",
    "print('y max rough:', np.sin(np.deg2rad(lat_max_humb)))\n",
    "\n",
    "#selects specific range of x/y\n",
    "x_min_humb = 1.35\n",
    "y_min_humb = .8\n",
    "x_max_humb = x_min_humb + .1\n",
    "y_max_humb = y_min_humb + .1\n",
    "\n",
    "print('\\nhumboldtianum chosen:')\n",
    "print('x min:', x_min_humb)\n",
    "print('y min:', y_min_humb)\n",
    "print('x max:', x_max_humb)\n",
    "print('y max:', y_max_humb)"
   ]
  },
  {
   "cell_type": "code",
   "execution_count": 13,
   "metadata": {},
   "outputs": [
    {
     "name": "stdout",
     "output_type": "stream",
     "text": [
      "imbrium rough:\n",
      "x min rough: 5.8468529941810035\n",
      "y min rough: 0.3420201433256687\n",
      "x max rough: 6.19591884457987\n",
      "y max rough: 0.766044443118978\n",
      "\n",
      "imbrium chosen:\n",
      "x min: 5.9\n",
      "y min: 0.5\n",
      "x max: 6.0\n",
      "y max: 0.6\n"
     ]
    }
   ],
   "source": [
    "#imbrium\n",
    "\n",
    "# measured lat/long restraints\n",
    "lat_min_imbr = 20\n",
    "lat_max_imbr = 50\n",
    "lon_min_imbr = 335\n",
    "lon_max_imbr = 355\n",
    "\n",
    "#converts rough restraints into x/y\n",
    "print('imbrium rough:')\n",
    "print('x min rough:', np.pi * (lon_min_imbr) / 180)\n",
    "print('y min rough:', np.sin(np.deg2rad(lat_min_imbr)))\n",
    "print('x max rough:', np.pi * (lon_max_imbr) / 180)\n",
    "print('y max rough:', np.sin(np.deg2rad(lat_max_imbr)))\n",
    "\n",
    "#selects specific range of x/y\n",
    "x_min_imbr = 5.9\n",
    "y_min_imbr = .5\n",
    "x_max_imbr = x_min_imbr + .1\n",
    "y_max_imbr = y_min_imbr + .1\n",
    "\n",
    "print('\\nimbrium chosen:')\n",
    "print('x min:', x_min_imbr)\n",
    "print('y min:', y_min_imbr)\n",
    "print('x max:', x_max_imbr)\n",
    "print('y max:', y_max_imbr)"
   ]
  },
  {
   "cell_type": "code",
   "execution_count": 14,
   "metadata": {},
   "outputs": [
    {
     "name": "stdout",
     "output_type": "stream",
     "text": [
      "orientale rough:\n",
      "x min rough: 4.537856055185257\n",
      "y max rough: -0.17364817766693033\n",
      "x max rough: 4.71238898038469\n",
      "y min rough: -0.4694715627858908\n",
      "\n",
      "orientale chosen:\n",
      "x min: 4.55\n",
      "y min: -0.45\n",
      "x max: 4.6499999999999995\n",
      "y max: -0.35\n"
     ]
    }
   ],
   "source": [
    "#orientale\n",
    "\n",
    "# measured lat/long restraints\n",
    "lat_min_orien = -28\n",
    "lat_max_orien = -10\n",
    "lon_min_orien = 260\n",
    "lon_max_orien = 270\n",
    "\n",
    "#converts rough restraints into x/y\n",
    "print('orientale rough:')\n",
    "print('x min rough:', np.pi * lon_min_orien / 180)\n",
    "print('y max rough:', np.sin(np.deg2rad(lat_max_orien)))\n",
    "print('x max rough:', np.pi * lon_max_orien / 180)\n",
    "print('y min rough:', np.sin(np.deg2rad(lat_min_orien)))\n",
    "\n",
    "#selects specific range of x/y\n",
    "x_min_orien = 4.55\n",
    "y_min_orien = -.450\n",
    "x_max_orien = x_min_orien + .1\n",
    "y_max_orien = y_min_orien + .1\n",
    "\n",
    "print('\\norientale chosen:')\n",
    "print('x min:', x_min_orien)\n",
    "print('y min:', y_min_orien)\n",
    "print('x max:', x_max_orien)\n",
    "print('y max:', y_max_orien)"
   ]
  }
 ],
 "metadata": {
  "kernelspec": {
   "display_name": "Python 3.11.0 ('geo_env')",
   "language": "python",
   "name": "python3"
  },
  "language_info": {
   "codemirror_mode": {
    "name": "ipython",
    "version": 3
   },
   "file_extension": ".py",
   "mimetype": "text/x-python",
   "name": "python",
   "nbconvert_exporter": "python",
   "pygments_lexer": "ipython3",
   "version": "3.11.0"
  },
  "orig_nbformat": 4,
  "vscode": {
   "interpreter": {
    "hash": "a85e743dec9ef31fb8a196a35bc044cb46515a4fb24e9c26a9cb3c5806b99144"
   }
  }
 },
 "nbformat": 4,
 "nbformat_minor": 2
}
